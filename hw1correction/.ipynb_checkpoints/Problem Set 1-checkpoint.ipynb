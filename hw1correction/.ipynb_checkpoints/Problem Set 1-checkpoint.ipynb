{
 "cells": [
  {
   "cell_type": "markdown",
   "metadata": {},
   "source": [
    "# STATS 507 Fall 2021 Problem Set 1\n",
    "Xiaojun Wang\n"
   ]
  },
  {
   "cell_type": "code",
   "execution_count": 1,
   "metadata": {},
   "outputs": [],
   "source": [
    "import math\n",
    "import time\n",
    "import statistics\n",
    "import pandas as pd\n",
    "import numpy as np\n",
    "import scipy.stats as st"
   ]
  },
  {
   "cell_type": "markdown",
   "metadata": {},
   "source": [
    "# Question 0 - Markdown warmup [10 points]\n",
    "\n",
    "This is question 0 for problem set 1 of Stats 507.\n",
    "\n",
    "> Question 0 is about Markdown.\n",
    "\n",
    "The next question is about the **Fibonnaci sequence**, $Fn=Fn−2+Fn−1$. In part **a** we will define a Python function `fib_rec()`.\n",
    "\n",
    "Below is a …\n",
    "\n",
    "### Level 3 Header\n",
    "Next, we can make a bulleted list:\n",
    "\n",
    "- Item 1\n",
    "    + detail 1\n",
    "    + detail 2\n",
    "- Item 2\n",
    "\n",
    "Finally, we can make an enumerated list:\n",
    "\n",
    "1. Item 1\n",
    "2. Item 2\n",
    "3. Item 3"
   ]
  },
  {
   "cell_type": "markdown",
   "metadata": {},
   "source": [
    "# Question 1 - Fibonnaci Sequence [30]"
   ]
  },
  {
   "cell_type": "markdown",
   "metadata": {},
   "source": [
    "a. Write a recursive function `fib_rec()` that takes input n, a=0, and b=1 and returns the value of $F_n$ for $F_0 = a$, and $F_1 = b$. [You can call a and b something else, e.g. f0 and f1 or collect them in a list/tuple if you prefer.]"
   ]
  },
  {
   "cell_type": "code",
   "execution_count": 2,
   "metadata": {},
   "outputs": [
    {
     "name": "stdout",
     "output_type": "stream",
     "text": [
      "True\n",
      "True\n",
      "True\n"
     ]
    }
   ],
   "source": [
    "def fib_rec(n, a=0, b=1):\n",
    "    \"\"\"\n",
    "    Compute the Fibonacci number $F_n$, when $F_0 = a$ and $F_1 = b$.\n",
    "    \n",
    "    This function computes $F_n$ using a linear-complexity recursion.\n",
    "\n",
    "    Parameters\n",
    "    ----------\n",
    "    n : int\n",
    "        The desired Fibonacci number $F_n$.\n",
    "    a, b : int, optional.\n",
    "        Values to initialize the sequence $F_0 = a$, $F_1 = b$.\n",
    "\n",
    "    Returns\n",
    "    -------\n",
    "    The Fibonacci number $F_n$.\n",
    "\n",
    "    \"\"\"\n",
    "    if n <= 1:\n",
    "        return n\n",
    "    else:\n",
    "        return(fib_rec(n-1) + fib_rec(n-2))\n",
    "\n",
    "# Write a test to ensure your function returns the following values: \n",
    "# F7=13, F11=89, and F13=233.\n",
    "print(fib_rec(7,0,1) == 13)\n",
    "print(fib_rec(11,0,1) == 89)\n",
    "print(fib_rec(13,0,1) == 233)"
   ]
  },
  {
   "cell_type": "markdown",
   "metadata": {},
   "source": [
    "b. Write a function `fib_for()` with the same signature that computes $F_n$ by summation using a `for` loop."
   ]
  },
  {
   "cell_type": "code",
   "execution_count": 3,
   "metadata": {},
   "outputs": [
    {
     "name": "stdout",
     "output_type": "stream",
     "text": [
      "True\n",
      "True\n",
      "True\n"
     ]
    }
   ],
   "source": [
    "def fib_for(n, a=0, b=1):\n",
    "    \"\"\"\n",
    "    Compute the Fibonacci number $F_n$, when $F_0 = a$ and $F_1 = b$.\n",
    "\n",
    "    This function computes $F_n$ directly by iterating using a for loop.\n",
    "\n",
    "    Parameters\n",
    "    ----------\n",
    "    n : int\n",
    "        The desired Fibonacci number $F_n$. \n",
    "    a, b : int, optional.\n",
    "        Values to initialize the sequence $F_0 = a$, $F_1 = b$. \n",
    "\n",
    "    Returns\n",
    "    -------\n",
    "    The Fibonacci number $F_n$. \n",
    "\n",
    "    \"\"\"\n",
    "    if n <= 1:\n",
    "        return n\n",
    "    for i in range(1,n):\n",
    "        a, b = b, a + b\n",
    "    return b\n",
    "    \n",
    "\n",
    "# Write a test to ensure your function returns the following values: \n",
    "# F7=13, F11=89, and F13=233.\n",
    "print(fib_for(7,0,1) == 13)\n",
    "print(fib_for(11,0,1) == 89)\n",
    "print(fib_for(13,0,1) == 233)"
   ]
  },
  {
   "cell_type": "markdown",
   "metadata": {},
   "source": [
    "c. Write a function `fib_whl()` with the same signature that computes $F_n$ by summation using a `while` loop."
   ]
  },
  {
   "cell_type": "code",
   "execution_count": 4,
   "metadata": {},
   "outputs": [
    {
     "name": "stdout",
     "output_type": "stream",
     "text": [
      "True\n",
      "True\n",
      "True\n"
     ]
    }
   ],
   "source": [
    "def fib_whl(n, a=0, b=1):\n",
    "    \"\"\"\n",
    "    Compute the Fibonacci number $F_n$, when $F_0 = a$ and $F_1 = b$.\n",
    "\n",
    "    This function computes $F_n$ by direct summation, iterating using a\n",
    "    while loop.\n",
    "\n",
    "    Parameters\n",
    "    ----------\n",
    "    n : int\n",
    "        The desired Fibonacci number $F_n$.\n",
    "    a, b : int, optional.\n",
    "        Values to initialize the sequence $F_0 = a$, $F_1 = b$.\n",
    "\n",
    "    Returns\n",
    "    -------\n",
    "    The Fibonacci number $F_n$.\n",
    "\n",
    "    \"\"\"\n",
    "    if n <= 1:\n",
    "        return n\n",
    "    while n > 1:\n",
    "        a, b, n = b, a + b, n - 1\n",
    "    return b\n",
    "    \n",
    "\n",
    "# Write a test to ensure your function returns the following values: \n",
    "# F7=13, F11=89, and F13=233.\n",
    "print(fib_whl(7,0,1) == 13)\n",
    "print(fib_whl(11,0,1) == 89)\n",
    "print(fib_whl(13,0,1) == 233)"
   ]
  },
  {
   "cell_type": "markdown",
   "metadata": {},
   "source": [
    "d. Write a function `fib_rnd()` with the same signature that computes $F_n$ using the rounding method described on the Wikipedia page linked above."
   ]
  },
  {
   "cell_type": "code",
   "execution_count": 5,
   "metadata": {},
   "outputs": [
    {
     "name": "stdout",
     "output_type": "stream",
     "text": [
      "True\n",
      "True\n",
      "True\n"
     ]
    }
   ],
   "source": [
    "def fib_rnd(n, a=0, b=1):\n",
    "    \"\"\"\n",
    "    Directly compute the Fibonacci number $F_n$, when $F_0 = a$ and $F_1 = b$.\n",
    "\n",
    "    This function computes $F_n$ by rounding $\\phi^n / sqrt(5)$.\n",
    "\n",
    "    Parameters\n",
    "    ----------\n",
    "    n : int\n",
    "        The desired Fibonacci number $F_n$.\n",
    "    a, b : int, optional.\n",
    "        Values to initialize the sequence $F_0 = a$, $F_1 = b$.\n",
    "\n",
    "    Returns\n",
    "    -------\n",
    "    The Fibonacci number $F_n$.\n",
    "    \"\"\"\n",
    "    if n <= 1:\n",
    "        return n\n",
    "    phi = (1 + math.sqrt(5)) / 2\n",
    "    return int(round(phi**n / math.sqrt(5))) \n",
    "    \n",
    "\n",
    "# Write a test to ensure your function returns the following values: \n",
    "# F7=13, F11=89, and F13=233.\n",
    "print(fib_rnd(7,0,1) == 13)\n",
    "print(fib_rnd(11,0,1) == 89)\n",
    "print(fib_rnd(13,0,1) == 233)"
   ]
  },
  {
   "cell_type": "markdown",
   "metadata": {},
   "source": [
    "e. Write a function `fib_flr()` with the same signature that computes $F_n$ using the truncation method described on the Wikipedia page linked above."
   ]
  },
  {
   "cell_type": "code",
   "execution_count": 6,
   "metadata": {},
   "outputs": [
    {
     "name": "stdout",
     "output_type": "stream",
     "text": [
      "True\n",
      "True\n",
      "True\n"
     ]
    }
   ],
   "source": [
    "def fib_flr(n, a=0, b=1):\n",
    "    \"\"\"\n",
    "    Directly compute the Fibonacci number $F_n$, when $F_0 = a$ and $F_1 = b$.\n",
    "\n",
    "    This function computes $F_n$ by finding the smallest integer less than\n",
    "    $\\phi^n / sqrt(5) + 0.5$. The formula is used directly for n < 250, and is\n",
    "    applied on the log scale for 250 <= n < 1477. A ValueError is raised for\n",
    "    larger n to avoid integer overflow.\n",
    "\n",
    "\n",
    "    Parameters\n",
    "    ----------\n",
    "    n : int\n",
    "        The desired Fibonacci number $F_n$, must be less than 1478.\n",
    "    a, b : int, optional.\n",
    "        Values to initialize the sequence $F_0 = a$, $F_1 = b$.\n",
    "\n",
    "    Returns\n",
    "    -------\n",
    "    The Fibonacci number $F_n$ if n < 1477, else a ValueError.\n",
    "    \"\"\"\n",
    "    if n <= 1:\n",
    "        return n\n",
    "    phi = (1 + math.sqrt(5)) / 2\n",
    "    return math.floor(phi**n / math.sqrt(5) + 1 / 2)\n",
    "    \n",
    "\n",
    "# Write a test to ensure your function returns the following values: \n",
    "# F7=13, F11=89, and F13=233.\n",
    "print(fib_flr(7,0,1) == 13)\n",
    "print(fib_flr(11,0,1) == 89)\n",
    "print(fib_flr(13,0,1) == 233)"
   ]
  },
  {
   "cell_type": "markdown",
   "metadata": {},
   "source": [
    "f. For a sequence of increasingly large values of n compare the median computation time of each of the functions above. Present your results in a nicely formatted table. (Point estimates are sufficient)."
   ]
  },
  {
   "cell_type": "code",
   "execution_count": 7,
   "metadata": {},
   "outputs": [
    {
     "data": {
      "text/html": [
       "<div>\n",
       "<style scoped>\n",
       "    .dataframe tbody tr th:only-of-type {\n",
       "        vertical-align: middle;\n",
       "    }\n",
       "\n",
       "    .dataframe tbody tr th {\n",
       "        vertical-align: top;\n",
       "    }\n",
       "\n",
       "    .dataframe thead th {\n",
       "        text-align: right;\n",
       "    }\n",
       "</style>\n",
       "<table border=\"1\" class=\"dataframe\">\n",
       "  <thead>\n",
       "    <tr style=\"text-align: right;\">\n",
       "      <th></th>\n",
       "      <th>fib_for</th>\n",
       "      <th>fib_whl</th>\n",
       "      <th>fib_rnd</th>\n",
       "      <th>fib_flr</th>\n",
       "    </tr>\n",
       "    <tr>\n",
       "      <th>n</th>\n",
       "      <th></th>\n",
       "      <th></th>\n",
       "      <th></th>\n",
       "      <th></th>\n",
       "    </tr>\n",
       "  </thead>\n",
       "  <tbody>\n",
       "    <tr>\n",
       "      <th>7</th>\n",
       "      <td>9.536743e-07</td>\n",
       "      <td>9.536743e-07</td>\n",
       "      <td>1.430511e-06</td>\n",
       "      <td>9.536743e-07</td>\n",
       "    </tr>\n",
       "    <tr>\n",
       "      <th>11</th>\n",
       "      <td>9.536743e-07</td>\n",
       "      <td>9.536743e-07</td>\n",
       "      <td>9.536743e-07</td>\n",
       "      <td>9.536743e-07</td>\n",
       "    </tr>\n",
       "    <tr>\n",
       "      <th>13</th>\n",
       "      <td>9.536743e-07</td>\n",
       "      <td>9.536743e-07</td>\n",
       "      <td>8.344650e-07</td>\n",
       "      <td>9.536743e-07</td>\n",
       "    </tr>\n",
       "    <tr>\n",
       "      <th>20</th>\n",
       "      <td>9.536743e-07</td>\n",
       "      <td>1.907349e-06</td>\n",
       "      <td>9.536743e-07</td>\n",
       "      <td>9.536743e-07</td>\n",
       "    </tr>\n",
       "    <tr>\n",
       "      <th>30</th>\n",
       "      <td>2.145767e-06</td>\n",
       "      <td>3.099442e-06</td>\n",
       "      <td>1.072884e-06</td>\n",
       "      <td>9.536743e-07</td>\n",
       "    </tr>\n",
       "    <tr>\n",
       "      <th>40</th>\n",
       "      <td>2.145767e-06</td>\n",
       "      <td>2.861023e-06</td>\n",
       "      <td>1.072884e-06</td>\n",
       "      <td>9.536743e-07</td>\n",
       "    </tr>\n",
       "    <tr>\n",
       "      <th>50</th>\n",
       "      <td>2.741814e-06</td>\n",
       "      <td>5.245209e-06</td>\n",
       "      <td>9.536743e-07</td>\n",
       "      <td>9.536743e-07</td>\n",
       "    </tr>\n",
       "    <tr>\n",
       "      <th>100</th>\n",
       "      <td>5.006790e-06</td>\n",
       "      <td>1.609325e-05</td>\n",
       "      <td>1.072884e-06</td>\n",
       "      <td>9.536743e-07</td>\n",
       "    </tr>\n",
       "    <tr>\n",
       "      <th>150</th>\n",
       "      <td>7.867813e-06</td>\n",
       "      <td>1.847744e-05</td>\n",
       "      <td>1.192093e-06</td>\n",
       "      <td>9.536743e-07</td>\n",
       "    </tr>\n",
       "    <tr>\n",
       "      <th>200</th>\n",
       "      <td>1.180172e-05</td>\n",
       "      <td>1.645088e-05</td>\n",
       "      <td>9.536743e-07</td>\n",
       "      <td>9.536743e-07</td>\n",
       "    </tr>\n",
       "  </tbody>\n",
       "</table>\n",
       "</div>"
      ],
      "text/plain": [
       "          fib_for       fib_whl       fib_rnd       fib_flr\n",
       "n                                                          \n",
       "7    9.536743e-07  9.536743e-07  1.430511e-06  9.536743e-07\n",
       "11   9.536743e-07  9.536743e-07  9.536743e-07  9.536743e-07\n",
       "13   9.536743e-07  9.536743e-07  8.344650e-07  9.536743e-07\n",
       "20   9.536743e-07  1.907349e-06  9.536743e-07  9.536743e-07\n",
       "30   2.145767e-06  3.099442e-06  1.072884e-06  9.536743e-07\n",
       "40   2.145767e-06  2.861023e-06  1.072884e-06  9.536743e-07\n",
       "50   2.741814e-06  5.245209e-06  9.536743e-07  9.536743e-07\n",
       "100  5.006790e-06  1.609325e-05  1.072884e-06  9.536743e-07\n",
       "150  7.867813e-06  1.847744e-05  1.192093e-06  9.536743e-07\n",
       "200  1.180172e-05  1.645088e-05  9.536743e-07  9.536743e-07"
      ]
     },
     "execution_count": 7,
     "metadata": {},
     "output_type": "execute_result"
    }
   ],
   "source": [
    "n_list = [7, 11, 13, 20, 30, 40, 50, 100, 150, 200]\n",
    "df = pd.DataFrame(index=n_list)\n",
    "df.index.name = 'n'\n",
    "for fib in [fib_for,fib_whl,fib_rnd,fib_flr]:\n",
    "    t = []\n",
    "    for n in n_list:\n",
    "        find_mid = []\n",
    "        for _ in range(10):\n",
    "            start = time.time()\n",
    "            fib(n,0,1)\n",
    "            end = time.time()\n",
    "            find_mid.append(end - start)\n",
    "        t.append(statistics.median(find_mid))\n",
    "    df[str(fib.__name__)] = t\n",
    "df"
   ]
  },
  {
   "cell_type": "markdown",
   "metadata": {},
   "source": [
    "n | fib_for() | fib_whl() | fib_rnd() | fib_flr() \n",
    ":-|:-:| :-: |:-:|-: \n",
    "**7**| 9.536743e-07\t| 9.536743e-07 | 9.536743e-07 | 0.000000e+00\n",
    "**11**\t|9.536743e-07\t|9.536743e-07\t|9.536743e-07\t|9.536743e-07\n",
    "**13**\t|9.536743e-07\t|1.907349e-06\t|9.536743e-07\t|9.536743e-07\n",
    "**20**\t|1.549721e-06\t|2.026558e-06\t|9.536743e-07\t|8.344650e-07\n",
    "**30**\t|1.907349e-06\t|3.933907e-06\t|9.536743e-07\t|9.536743e-07\n",
    "**40**\t|2.145767e-06\t|4.529953e-06\t|9.536743e-07\t|9.536743e-07\n",
    "**50**\t|2.980232e-06\t|4.053116e-06\t|9.536743e-07\t|9.536743e-07\n",
    "**100**\t|5.125999e-06\t|8.106232e-06\t|9.536743e-07\t|9.536743e-07\n",
    "**150**\t|7.629395e-06\t|1.215935e-05\t|9.536743e-07\t|9.536743e-07\n",
    "**200**\t|1.001358e-05\t|1.597404e-05\t|9.536743e-07\t|9.536743e-07"
   ]
  },
  {
   "cell_type": "markdown",
   "metadata": {},
   "source": [
    "# Question 2 - Pascal’s Triangle [20]"
   ]
  },
  {
   "cell_type": "markdown",
   "metadata": {},
   "source": [
    "Pascal’s triangle is a way to organize, compute, and present the Binomial coefficients (nk). The triangle can be constructed from the top starting with rows 0 [$\\binom{0}{0}$ = 1], and 1 [$\\binom{1}{0}$=1, $\\binom{1}{1}$=1]. From there, subsequent rows can be computed by adding adjacent entries from the previous row (implicitly appending zeros on the left and right)."
   ]
  },
  {
   "cell_type": "markdown",
   "metadata": {},
   "source": [
    "a. Write a function to compute a specified row of Pascal’s triangle. An arbitrary row of Pascal’s triangle can be computed efficiently by starting with (n0)=1 and then applying the following recurrence relation among binomial coefficients, $\\binom{n}{k} = \\binom{n}{k-1} \\times \\frac{n+1-k}{k}$"
   ]
  },
  {
   "cell_type": "code",
   "execution_count": 8,
   "metadata": {},
   "outputs": [
    {
     "name": "stdout",
     "output_type": "stream",
     "text": [
      "[1, 3, 3, 1]\n"
     ]
    }
   ],
   "source": [
    "def Pascal(n):\n",
    "    \"\"\"\n",
    "    Compute an arbitrary row of Pacal's triangle.\n",
    "\n",
    "    Row 0 is \"1\", row 1 is \"1, 1\".  \n",
    "\n",
    "    Parameters\n",
    "    ----------\n",
    "    n : int\n",
    "        The desired row.\n",
    " \n",
    "    Returns\n",
    "    -------\n",
    "    A list with values for the desired row. \n",
    "    \"\"\"\n",
    "    n, C, row = n+1, 1, []\n",
    "    for i in range(1, n + 1):\n",
    "        row.append(C)\n",
    "        C = int(C * (n - i) / i)\n",
    "    return row\n",
    "# test\n",
    "n = 3\n",
    "print(Pascal(n))"
   ]
  },
  {
   "cell_type": "markdown",
   "metadata": {},
   "source": [
    "b. Write a function for printing the first n rows of Pascal’s triangle using the conventional spacing with the numbers in each row staggered relative to adjacent rows. Use your function to display a minimum of 10 rows in your notebook."
   ]
  },
  {
   "cell_type": "code",
   "execution_count": 9,
   "metadata": {},
   "outputs": [
    {
     "name": "stdout",
     "output_type": "stream",
     "text": [
      "                     1   \n",
      "                   1   1   \n",
      "                 1   2   1   \n",
      "               1   3   3   1   \n",
      "             1   4   6   4   1   \n",
      "           1   5   10  10  5   1   \n",
      "         1   6   15  20  15  6   1   \n",
      "       1   7   21  35  35  21  7   1   \n",
      "     1   8   28  56  70  56  28  8   1   \n",
      "   1   9   36  84 126 126  84  36  9   1   \n",
      " 1   10  45 120 210 252 210 120  45  10  1   \n"
     ]
    }
   ],
   "source": [
    "# Reference: https://www.geeksforgeeks.org/pascal-triangle/; \n",
    "# https://stackoverflow.com/questions/65403248/print-pascals-\n",
    "# triangle-in-python-properly\n",
    "\n",
    "def printPascal(n):\n",
    "    \"\"\"\n",
    "    Compute an arbitrary row of Pacal's triangle.\n",
    "\n",
    "    Row 0 is \"1\", row 1 is \"1, 1\".  \n",
    "\n",
    "    Parameters\n",
    "    ----------\n",
    "    n : int\n",
    "        The desired number of rows.\n",
    " \n",
    "    Returns\n",
    "    -------\n",
    "    A string which, when printed, displays the first n rows. \n",
    "    \"\"\"\n",
    "    n = n+1\n",
    "    for line in range(1, n + 1):\n",
    "        C, row = 1, []\n",
    "        print(\"  \"*(n-line), end=\"\")\n",
    "        for i in range(1, line + 1):\n",
    "            print(str(C).center(4), end = \"\")\n",
    "            C = int(C * (line - i) / i)\n",
    "        print(\" \")\n",
    "\n",
    "n = 10\n",
    "printPascal(n)"
   ]
  },
  {
   "cell_type": "markdown",
   "metadata": {},
   "source": [
    "# Question 3 - Statistics 101 [40]"
   ]
  },
  {
   "cell_type": "markdown",
   "metadata": {},
   "source": [
    "a. The standard point and interval estimate for the populaiton mean based on Normal theory takes the form x¯±z×se(x) where x¯ is the mean, se(x) is the standard error, and z is a Gaussian multiplier that depends on the desired confidence level. Write a function to return a point and interval estimate for the mean based on these statistics."
   ]
  },
  {
   "cell_type": "code",
   "execution_count": 10,
   "metadata": {},
   "outputs": [
    {
     "data": {
      "text/plain": [
       "{'est': 2.0, 'lwr': 0.8684142659238281, 'upr': 3.1315857340761717, 'level': 95}"
      ]
     },
     "execution_count": 10,
     "metadata": {},
     "output_type": "execute_result"
    }
   ],
   "source": [
    "def Standard(data, clevel, ci_format='string'):\n",
    "    \"\"\"\n",
    "    Construct an estimate and confidence interval for the mean of `x`.\n",
    "\n",
    "    Parameters\n",
    "    ----------\n",
    "    data : A 1-dimensional NumPy array or compatible sequence type (list, tuple).\n",
    "        A data vector from which to form the estimates.\n",
    "    clevel : float, optional.\n",
    "        The desired confidence level, converted to a percent in the output.\n",
    "    ci_format: str or None, optional.\n",
    "        If `None` a dictionary with entries `mean`, `level`, `lwr`, and\n",
    "        `upr` whose values give the point estimate, confidence level (as a %),\n",
    "        lower and upper confidence bounds, respectively. If a string, it's the\n",
    "        result of calling the `.format_map()` method using this dictionary.\n",
    "        The default is \"{mean:.2f} [{level:.0f}%: ({lwr:.2f}, {upr:.2f})]\".\n",
    "\n",
    "    Returns\n",
    "    -------\n",
    "    By default, the function returns a string with a 95% confidence interval\n",
    "    in the form \"mean [95% CI: (lwr, upr)]\". A dictionary containing the mean,\n",
    "    confidence level, lower, bound, and upper bound can also be returned.\n",
    "\n",
    "    \"\"\"\n",
    "    if not isinstance(data, np.ndarray) or clevel <= 0:\n",
    "         raise ValueError(\"Passed inputs are wrong\")\n",
    "    est = np.mean(data)         #sample mean \n",
    "    ste = st.sem(data)          #sample standard error\n",
    "    ci = st.norm.interval(alpha=clevel/100,loc=est,scale=ste)\n",
    "    lwr, upr = ci[0], ci[1]\n",
    "    if ci_format == None: return {\"est\":est, \"lwr\": lwr, \"upr\":upr, \"level\":clevel}\n",
    "    return \"{est}[{level}%CI:({lwr},{upr})]\".format(est=est,lwr=lwr,upr=upr,level=clevel)\n",
    "    \n",
    "Standard(np.array([1, 2, 3]),95,None)"
   ]
  },
  {
   "cell_type": "code",
   "execution_count": 11,
   "metadata": {},
   "outputs": [
    {
     "data": {
      "text/plain": [
       "'2.0[95%CI:(0.8684142659238281,3.1315857340761717)]'"
      ]
     },
     "execution_count": 11,
     "metadata": {},
     "output_type": "execute_result"
    }
   ],
   "source": [
    "Standard(np.array([1, 2, 3]),95)"
   ]
  },
  {
   "cell_type": "markdown",
   "metadata": {},
   "source": [
    "b. There are a number of methods for computing a confidence interval for a population proportion arising from a Binomial experiment consisting of n independent and identically distributed (iid) Bernoulli trials. Let x be the number of successes in thes trials. In this question you will write a function to return point and interval estimates based on several of these methods. Your function should have a parameter method that controls the method used. Include functionality for each of the following methods."
   ]
  },
  {
   "cell_type": "code",
   "execution_count": 12,
   "metadata": {},
   "outputs": [],
   "source": [
    "def Normal_Approximation(n, x, alpha):\n",
    "    \"\"\"\n",
    "    Construct point and interval estimates for a population proportion using Normal Approximation.\n",
    "\n",
    "    Parameters\n",
    "    ----------\n",
    "    n : the number of independent and identically distributed (iid) Bernoulli trials.\n",
    "    x : the number of successes in thes trials\n",
    "    alpha: confidence level\n",
    "\n",
    "    Returns\n",
    "    -------\n",
    "    upper and lower of the confidence interval\n",
    "\n",
    "    \"\"\"\n",
    "    p_hat = x / n\n",
    "    if min(n*p_hat,n*(1-p_hat)) <= 12:\n",
    "         raise ValueError(\"Constraint is not satisfied.\")\n",
    "    z_score = st.norm.ppf(1- alpha/2)\n",
    "    lwr = p_hat - z_score * math.sqrt(p_hat*(1-p_hat) / n)\n",
    "    upr = p_hat + z_score * math.sqrt(p_hat*(1-p_hat) / n)\n",
    "    return lwr, upr"
   ]
  },
  {
   "cell_type": "code",
   "execution_count": 13,
   "metadata": {},
   "outputs": [],
   "source": [
    "def Clopper_Pearson(n, x, alpha):\n",
    "    \"\"\"\n",
    "    Construct point and interval estimates for a population proportion using Clopper Pearson.\n",
    "\n",
    "    Parameters\n",
    "    ----------\n",
    "    n : the number of independent and identically distributed (iid) Bernoulli trials.\n",
    "    x : the number of successes in thes trials\n",
    "    alpha: confidence level\n",
    "\n",
    "    Returns\n",
    "    -------\n",
    "    upper and lower of the confidence interval\n",
    "\n",
    "    \"\"\"\n",
    "    lwr = st.beta.ppf(alpha / 2, x, n-x+1)\n",
    "    upr = st.beta.ppf(1 - alpha / 2, x+1, n-x)\n",
    "    return lwr, upr"
   ]
  },
  {
   "cell_type": "code",
   "execution_count": 14,
   "metadata": {},
   "outputs": [],
   "source": [
    "def Jeffrey_Interval(n, x, alpha):\n",
    "    \"\"\"\n",
    "    Construct point and interval estimates for a population proportion using Jeffrey's method.\n",
    "\n",
    "    Parameters\n",
    "    ----------\n",
    "    n : the number of independent and identically distributed (iid) Bernoulli trials.\n",
    "    x : the number of successes in thes trials\n",
    "    alpha: confidence level\n",
    "\n",
    "    Returns\n",
    "    -------\n",
    "    upper and lower of the confidence interval\n",
    "\n",
    "    \"\"\"\n",
    "    p_hat = x / n\n",
    "    lwr = max(0, st.beta.ppf(alpha / 2, x+0.5, n-x+0.5))\n",
    "    upr = min(1, st.beta.ppf(1 - alpha / 2, x+0.5, n-x+0.5))\n",
    "    return lwr, upr"
   ]
  },
  {
   "cell_type": "code",
   "execution_count": 15,
   "metadata": {},
   "outputs": [],
   "source": [
    "def Agresti_Coull(n, x, alpha):\n",
    "    \"\"\"\n",
    "    Construct point and interval estimates for a population proportion using Agresti Coull's method.\n",
    "\n",
    "    Parameters\n",
    "    ----------\n",
    "    n : the number of independent and identically distributed (iid) Bernoulli trials.\n",
    "    x : the number of successes in thes trials\n",
    "    alpha: confidence level\n",
    "\n",
    "    Returns\n",
    "    -------\n",
    "    upper and lower of the confidence interval\n",
    "\n",
    "    \"\"\"\n",
    "    z_score = st.norm.ppf(1- alpha/2)\n",
    "    n = n + z_score**2\n",
    "    p = 1/ n * (x + z_score**2 / 2)\n",
    "    lwr = p - z_score * math.sqrt(p/n * (1-p))\n",
    "    upr = p + z_score * math.sqrt(p/n * (1-p))\n",
    "    return p, lwr, upr"
   ]
  },
  {
   "cell_type": "code",
   "execution_count": 16,
   "metadata": {},
   "outputs": [],
   "source": [
    "def func_b(data, clevel, ci_format='string', method=None):\n",
    "    \"\"\"\n",
    "    Construct point and interval estimates for a population proportion using different methods.\n",
    "    \n",
    "    By default, the function returns a string with a 95% confidence interval\n",
    "    in the form \"mean [level% CI: (lwr, upr)]\". Set `str_fmt=None` to return\n",
    "    a dictionary containing the mean, confidence level (%-scale, level),\n",
    "    lower bound (lwr), and upper bound (upr) can also be returned.\n",
    "\n",
    "    Parameters\n",
    "    ----------\n",
    "    data : A 1-dimensional NumPy array or compatible sequence type (list, tuple).\n",
    "        A data vector of 0/1 or False/True from which to form the estimates.\n",
    "    clevel : float, optional.\n",
    "        The desired confidence level, converted to a percent in the output.\n",
    "        The default is 0.95.\n",
    "    ci_format: str or None, optional.\n",
    "        If `None` a dictionary with entries `mean`, `level`, `lwr`, and\n",
    "        `upr` whose values give the point estimate, confidence level (as a %),\n",
    "        lower and upper confidence bounds, respectively. If a string, it's the\n",
    "        result of calling the `.format_map()` method using this dictionary.\n",
    "        The default is \"{mean:.1f} [{level:0.f}%: ({lwr:.1f}, {upr:.1f})]\".\n",
    "    method: str, optional\n",
    "        The type of confidence interval and point estimate desired.  Allowed\n",
    "        values are \"Normal\" for the normal approximation to the Binomial,\n",
    "        \"CP\" for a Clopper-Pearson interval, \"Jeffrey\" for Jeffrey's method,\n",
    "        or \"AC\" for the Agresti-Coull estimates.\n",
    "\n",
    "    Returns\n",
    "    -------\n",
    "    A string with a (100 * level)% confidence interval in the form\n",
    "    \"mean [(100 * level)% CI: (lwr, upr)]\" or a dictionary containing the\n",
    "    keywords shown in the string.\n",
    "\n",
    "    \"\"\"\n",
    "    x = data.sum()\n",
    "    n = len(data)\n",
    "    alpha = (100- clevel) / 100\n",
    "    est = x / n\n",
    "    if method == \"Normal_Approximation\": lwr, upr = Normal_Approximation(n, x, alpha)\n",
    "    if method == \"Clopper_Pearson\": lwr, upr = Clopper_Pearson(n, x, alpha)\n",
    "    if method == \"Jeffrey_Interval\": lwr, upr = Jeffrey_Interval(n, x, alpha)\n",
    "    if method == \"Agresti_Coull\": est, lwr, upr = Agresti_Coull(n, x, alpha)\n",
    "    if ci_format == None: return {\"est\":est, \"lwr\": lwr, \"upr\":upr, \"level\":clevel}\n",
    "    return \"{est}[{level}%CI:({lwr},{upr})]\".format(est=est,lwr=lwr,upr=upr,level=clevel)"
   ]
  },
  {
   "cell_type": "code",
   "execution_count": 17,
   "metadata": {},
   "outputs": [
    {
     "data": {
      "text/plain": [
       "'0.4666666666666667[95%CI:(0.3635973039596375,0.5697360293736958)]'"
      ]
     },
     "execution_count": 17,
     "metadata": {},
     "output_type": "execute_result"
    }
   ],
   "source": [
    "data = np.concatenate((np.zeros(48), np.ones(42)))\n",
    "func_b(data, 95, \"string\", \"Normal_Approximation\")"
   ]
  },
  {
   "cell_type": "code",
   "execution_count": 18,
   "metadata": {},
   "outputs": [
    {
     "data": {
      "text/plain": [
       "'0.4666666666666667[95%CI:(0.36071567861279175,0.574872655255084)]'"
      ]
     },
     "execution_count": 18,
     "metadata": {},
     "output_type": "execute_result"
    }
   ],
   "source": [
    "func_b(data, 95, \"string\", \"Clopper_Pearson\")"
   ]
  },
  {
   "cell_type": "code",
   "execution_count": 19,
   "metadata": {},
   "outputs": [
    {
     "data": {
      "text/plain": [
       "'0.4666666666666667[95%CI:(0.3660149306034982,0.5694242476723477)]'"
      ]
     },
     "execution_count": 19,
     "metadata": {},
     "output_type": "execute_result"
    }
   ],
   "source": [
    "func_b(data, 95, \"string\", \"Jeffrey_Interval\")"
   ]
  },
  {
   "cell_type": "code",
   "execution_count": 20,
   "metadata": {},
   "outputs": [
    {
     "data": {
      "text/plain": [
       "'0.4680311875188109[95%CI:(0.36707540522653587,0.5689869698110859)]'"
      ]
     },
     "execution_count": 20,
     "metadata": {},
     "output_type": "execute_result"
    }
   ],
   "source": [
    "func_b(data, 95, \"string\", \"Agresti_Coull\")"
   ]
  },
  {
   "cell_type": "markdown",
   "metadata": {},
   "source": [
    "c. Create a 1d Numpy array with 42 ones and 48 zeros. Construct a nicely formatted table comparing 90, 95, and 99% confidence intervals using each of the methods above (including part a) on this data. Choose the number of decimals to display carefully to emphasize differences. For each confidence level, which method produces the interval with the smallest width?"
   ]
  },
  {
   "cell_type": "code",
   "execution_count": 21,
   "metadata": {},
   "outputs": [],
   "source": [
    "data = np.concatenate((np.zeros(48), np.ones(42)))"
   ]
  },
  {
   "cell_type": "code",
   "execution_count": 22,
   "metadata": {},
   "outputs": [
    {
     "data": {
      "text/html": [
       "<div>\n",
       "<style scoped>\n",
       "    .dataframe tbody tr th:only-of-type {\n",
       "        vertical-align: middle;\n",
       "    }\n",
       "\n",
       "    .dataframe tbody tr th {\n",
       "        vertical-align: top;\n",
       "    }\n",
       "\n",
       "    .dataframe thead th {\n",
       "        text-align: right;\n",
       "    }\n",
       "</style>\n",
       "<table border=\"1\" class=\"dataframe\">\n",
       "  <thead>\n",
       "    <tr style=\"text-align: right;\">\n",
       "      <th></th>\n",
       "      <th>Standard</th>\n",
       "      <th>Normal_Approximation</th>\n",
       "      <th>Clopper_Pearson</th>\n",
       "      <th>Jeffrey_Interval</th>\n",
       "      <th>Agresti_Coull</th>\n",
       "    </tr>\n",
       "    <tr>\n",
       "      <th>Confidence Interval</th>\n",
       "      <th></th>\n",
       "      <th></th>\n",
       "      <th></th>\n",
       "      <th></th>\n",
       "      <th></th>\n",
       "    </tr>\n",
       "  </thead>\n",
       "  <tbody>\n",
       "    <tr>\n",
       "      <th>90%</th>\n",
       "      <td>(0.37968,0.55365),0.17397</td>\n",
       "      <td>(0.38017,0.55317),0.173</td>\n",
       "      <td>(0.37647,0.55855),0.18208</td>\n",
       "      <td>(0.38183,0.55307),0.17124</td>\n",
       "      <td>(0.3824,0.55288),0.17048</td>\n",
       "    </tr>\n",
       "    <tr>\n",
       "      <th>95%</th>\n",
       "      <td>(0.36302,0.57031),0.20729</td>\n",
       "      <td>(0.3636,0.56974),0.20614</td>\n",
       "      <td>(0.36072,0.57487),0.21415</td>\n",
       "      <td>(0.36601,0.56942),0.20341</td>\n",
       "      <td>(0.36708,0.56899),0.20191</td>\n",
       "    </tr>\n",
       "    <tr>\n",
       "      <th>99%</th>\n",
       "      <td>(0.33045,0.60288),0.27243</td>\n",
       "      <td>(0.33121,0.60212),0.27091</td>\n",
       "      <td>(0.33057,0.60639),0.27582</td>\n",
       "      <td>(0.33573,0.60103),0.2653</td>\n",
       "      <td>(0.33819,0.59972),0.26153</td>\n",
       "    </tr>\n",
       "  </tbody>\n",
       "</table>\n",
       "</div>"
      ],
      "text/plain": [
       "                                      Standard       Normal_Approximation  \\\n",
       "Confidence Interval                                                         \n",
       "90%                  (0.37968,0.55365),0.17397    (0.38017,0.55317),0.173   \n",
       "95%                  (0.36302,0.57031),0.20729   (0.3636,0.56974),0.20614   \n",
       "99%                  (0.33045,0.60288),0.27243  (0.33121,0.60212),0.27091   \n",
       "\n",
       "                               Clopper_Pearson           Jeffrey_Interval  \\\n",
       "Confidence Interval                                                         \n",
       "90%                  (0.37647,0.55855),0.18208  (0.38183,0.55307),0.17124   \n",
       "95%                  (0.36072,0.57487),0.21415  (0.36601,0.56942),0.20341   \n",
       "99%                  (0.33057,0.60639),0.27582   (0.33573,0.60103),0.2653   \n",
       "\n",
       "                                 Agresti_Coull  \n",
       "Confidence Interval                             \n",
       "90%                   (0.3824,0.55288),0.17048  \n",
       "95%                  (0.36708,0.56899),0.20191  \n",
       "99%                  (0.33819,0.59972),0.26153  "
      ]
     },
     "execution_count": 22,
     "metadata": {},
     "output_type": "execute_result"
    }
   ],
   "source": [
    "clevel_list = [90, 95, 99]\n",
    "df = pd.DataFrame(index=[\"90%\", \"95%\", \"99%\"])\n",
    "df.index.name = 'Confidence Interval'\n",
    "for method in [\"Standard\",\"Normal_Approximation\",\"Clopper_Pearson\",\"Jeffrey_Interval\",\"Agresti_Coull\"]:\n",
    "    ci = []\n",
    "    for cl in clevel_list:\n",
    "        if method == \"Standard\": result = Standard(data, cl, None)\n",
    "        else: result = func_b(data, cl, None, method)\n",
    "        lwr, upr = round(result[\"lwr\"],5), round(result[\"upr\"],5)\n",
    "        ci.append(\"({lwr},{upr}),{width}\".format(lwr=lwr,upr=upr,width=round(upr-lwr,5)))\n",
    "    df[method] = ci\n",
    "df"
   ]
  },
  {
   "cell_type": "markdown",
   "metadata": {},
   "source": [
    "Confidence Interval\t | Standard | Normal_Approximation | Clopper_Pearson | Jeffrey_Interval | Agresti_Coull | Smallest Width\n",
    ":-|:-:| :-: |:-:|:-: |:-:|-:\n",
    "**90%**| (0.37968,0.55365),0.17397 | (0.38017,0.55317),0.173|(0.37647,0.55855),0.18208|(0.38183,0.55307),0.17124|(0.3824,0.55288),0.17048 | Agresti_Coull\n",
    "**95%**\t|(0.36302,0.57031),0.20729|\t(0.3636,0.56974),0.20614|\t(0.36072,0.57487),0.21415|\t(0.36601,0.56942),0.20341|\t(0.36708,0.56899),0.20191 | Agresti_Coull\n",
    "**99%**\t|(0.33045,0.60288),0.27243\t|(0.33121,0.60212),0.27091|\t(0.33057,0.60639),0.27582|\t(0.33573,0.60103),0.2653|\t(0.33819,0.59972),0.26153 | Agresti_Coull\n",
    "\n"
   ]
  }
 ],
 "metadata": {
  "kernelspec": {
   "display_name": "Python 3",
   "language": "python",
   "name": "python3"
  },
  "language_info": {
   "codemirror_mode": {
    "name": "ipython",
    "version": 3
   },
   "file_extension": ".py",
   "mimetype": "text/x-python",
   "name": "python",
   "nbconvert_exporter": "python",
   "pygments_lexer": "ipython3",
   "version": "3.7.4"
  }
 },
 "nbformat": 4,
 "nbformat_minor": 4
}
